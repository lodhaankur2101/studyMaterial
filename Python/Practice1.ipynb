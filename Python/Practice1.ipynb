{
 "cells": [
  {
   "cell_type": "code",
   "execution_count": 6,
   "metadata": {},
   "outputs": [
    {
     "name": "stdout",
     "output_type": "stream",
     "text": [
      "hello world\n"
     ]
    }
   ],
   "source": [
    "# hello world # python is case sensitive.\n",
    "print(\"hello world\") "
   ]
  },
  {
   "cell_type": "code",
   "execution_count": 7,
   "metadata": {},
   "outputs": [],
   "source": [
    "# variable - Python looks at the data on right(=) and infers the data type.\n",
    "x=10 \n",
    "y=10.01\n",
    "z= 'ABCD'\n",
    "a= \"QWERTY\"\n"
   ]
  },
  {
   "cell_type": "code",
   "execution_count": 8,
   "metadata": {},
   "outputs": [
    {
     "name": "stdout",
     "output_type": "stream",
     "text": [
      "<class 'int'>\n",
      "<class 'float'>\n",
      "<class 'str'>\n",
      "<class 'str'>\n"
     ]
    }
   ],
   "source": [
    " # type to find the data type of the variable.\n",
    "print(type(x))\n",
    "print(type(y))\n",
    "print(type(z))\n",
    "print(type(a))"
   ]
  },
  {
   "cell_type": "code",
   "execution_count": 9,
   "metadata": {},
   "outputs": [
    {
     "name": "stdout",
     "output_type": "stream",
     "text": [
      "<class 'int'>\n",
      "<class 'str'>\n"
     ]
    }
   ],
   "source": [
    "# Python is a dynamic language.\n",
    "x =10\n",
    "print(type(x))\n",
    "x='Ankur'\n",
    "print(type(x))"
   ]
  },
  {
   "cell_type": "code",
   "execution_count": 12,
   "metadata": {},
   "outputs": [
    {
     "name": "stdout",
     "output_type": "stream",
     "text": [
      "This line is not part of the function\n",
      "This line is part of the function\n",
      "This line is also part of the function\n"
     ]
    }
   ],
   "source": [
    "# function,whitespaces and indentation.\n",
    "def FunctionName():\n",
    "    print(\"This line is part of the function\")  # observe the indentation, it starts with a whitespace.\n",
    "    print(\"This line is also part of the function\")\n",
    "    \n",
    "print(\"This line is not part of the function\") # observe the indentation, it starts inline with the definition of the function.\n",
    "FunctionName() # invokes the method\n"
   ]
  },
  {
   "cell_type": "code",
   "execution_count": 16,
   "metadata": {},
   "outputs": [
    {
     "name": "stdout",
     "output_type": "stream",
     "text": [
      "This is the value of the Parameter passed to the function: My name is Ankur Lodha\n",
      "This is the value of the Parameter passed to the function: My name is Ankur Lodha\n",
      "This is the value of the Parameter passed to the function: 10.10\n"
     ]
    },
    {
     "ename": "TypeError",
     "evalue": "can only concatenate str (not \"int\") to str",
     "output_type": "error",
     "traceback": [
      "\u001b[1;31m---------------------------------------------------------------------------\u001b[0m",
      "\u001b[1;31mTypeError\u001b[0m                                 Traceback (most recent call last)",
      "\u001b[1;32m<ipython-input-16-2531033d0948>\u001b[0m in \u001b[0;36m<module>\u001b[1;34m\u001b[0m\n\u001b[0;32m      5\u001b[0m \u001b[0mfunctionname1\u001b[0m\u001b[1;33m(\u001b[0m\u001b[1;34m'My name is Ankur Lodha'\u001b[0m\u001b[1;33m)\u001b[0m\u001b[1;33m\u001b[0m\u001b[1;33m\u001b[0m\u001b[0m\n\u001b[0;32m      6\u001b[0m \u001b[0mfunctionname1\u001b[0m\u001b[1;33m(\u001b[0m\u001b[1;34m\"10.10\"\u001b[0m\u001b[1;33m)\u001b[0m\u001b[1;33m\u001b[0m\u001b[1;33m\u001b[0m\u001b[0m\n\u001b[1;32m----> 7\u001b[1;33m \u001b[0mfunctionname1\u001b[0m\u001b[1;33m(\u001b[0m\u001b[1;36m10\u001b[0m\u001b[1;33m)\u001b[0m \u001b[1;31m# this will throw an error as string can be concatenated to a string.\u001b[0m\u001b[1;33m\u001b[0m\u001b[1;33m\u001b[0m\u001b[0m\n\u001b[0m",
      "\u001b[1;32m<ipython-input-16-2531033d0948>\u001b[0m in \u001b[0;36mfunctionname1\u001b[1;34m(param)\u001b[0m\n\u001b[0;32m      1\u001b[0m \u001b[1;31m# function with parameters\u001b[0m\u001b[1;33m\u001b[0m\u001b[1;33m\u001b[0m\u001b[1;33m\u001b[0m\u001b[0m\n\u001b[0;32m      2\u001b[0m \u001b[1;32mdef\u001b[0m \u001b[0mfunctionname1\u001b[0m\u001b[1;33m(\u001b[0m\u001b[0mparam\u001b[0m\u001b[1;33m)\u001b[0m\u001b[1;33m:\u001b[0m\u001b[1;33m\u001b[0m\u001b[1;33m\u001b[0m\u001b[0m\n\u001b[1;32m----> 3\u001b[1;33m     \u001b[0mprint\u001b[0m\u001b[1;33m(\u001b[0m\u001b[1;34m\"This is the value of the Parameter passed to the function: \"\u001b[0m\u001b[1;33m+\u001b[0m \u001b[0mparam\u001b[0m\u001b[1;33m)\u001b[0m\u001b[1;33m\u001b[0m\u001b[1;33m\u001b[0m\u001b[0m\n\u001b[0m\u001b[0;32m      4\u001b[0m \u001b[0mfunctionname1\u001b[0m\u001b[1;33m(\u001b[0m\u001b[1;34m\"My name is Ankur Lodha\"\u001b[0m\u001b[1;33m)\u001b[0m\u001b[1;33m\u001b[0m\u001b[1;33m\u001b[0m\u001b[0m\n\u001b[0;32m      5\u001b[0m \u001b[0mfunctionname1\u001b[0m\u001b[1;33m(\u001b[0m\u001b[1;34m'My name is Ankur Lodha'\u001b[0m\u001b[1;33m)\u001b[0m\u001b[1;33m\u001b[0m\u001b[1;33m\u001b[0m\u001b[0m\n",
      "\u001b[1;31mTypeError\u001b[0m: can only concatenate str (not \"int\") to str"
     ]
    }
   ],
   "source": [
    "# function with parameters\n",
    "# a parameter other numeric data type needs to be passed as string, else will throw an error\n",
    "def functionname1(param):\n",
    "    print(\"This is the value of the Parameter passed to the function: \"+ param)\n",
    "functionname1(\"My name is Ankur Lodha\") # no need to put semi colon to start new line or code. \n",
    "functionname1('My name is Ankur Lodha')#just press enter to code on new line.\n",
    "functionname1(\"10.10\")\n",
    "functionname1(10) # this will throw an error as string can be concatenated to a string.Read the error."
   ]
  },
  {
   "cell_type": "code",
   "execution_count": 31,
   "metadata": {},
   "outputs": [
    {
     "name": "stdout",
     "output_type": "stream",
     "text": [
      "<class 'list'>\n",
      "Ankur\n",
      "Lodha\n",
      "2101\n",
      "Lodha\n",
      "['Ankur', 'Lodha']\n",
      "['Lodha', '2101']\n"
     ]
    }
   ],
   "source": [
    "# Collection- most used collection is list.\n",
    "#python list,Index range and negative indexing.\n",
    "\n",
    "list1 = [\"Ankur\",\"Lodha\",\"2101\"]\n",
    "print(type(list1))\n",
    "print(list1[0]) # list is zero indexed.\n",
    "print(list1[1])\n",
    "print(list1[-1]) # negative index to start from the last value.\n",
    "print(list1[-2])\n",
    "print(list1[0:2]) # include first value of the index range passed but exlcudes last value of the range passed.\n",
    "# observe printed values, Remeber zero indexed! 0{ankur},1{lodha} included but 2{2101} excluded.\n",
    "print(list1[-2:]) # exclude the last value when negative indexing, in this case -2. "
   ]
  },
  {
   "cell_type": "code",
   "execution_count": 35,
   "metadata": {},
   "outputs": [
    {
     "name": "stdout",
     "output_type": "stream",
     "text": [
      "Ankur\n",
      "Lodha\n",
      "2101\n"
     ]
    }
   ],
   "source": [
    "# for loops.\n",
    "# for loop : for each variable in list1 : print each variable in list1\n",
    "for temp in list1: \n",
    "    print(temp)\n"
   ]
  },
  {
   "cell_type": "code",
   "execution_count": 40,
   "metadata": {},
   "outputs": [
    {
     "name": "stdout",
     "output_type": "stream",
     "text": [
      "exist\n"
     ]
    }
   ],
   "source": [
    "#if conditions.\n",
    "if \"Ankur\" in list1:\n",
    "    print(\"exist\")"
   ]
  },
  {
   "cell_type": "code",
   "execution_count": 42,
   "metadata": {},
   "outputs": [
    {
     "name": "stdout",
     "output_type": "stream",
     "text": [
      "first name not found\n"
     ]
    }
   ],
   "source": [
    "#if else\n",
    "if \"abc\" in list1:\n",
    "    print(\"first name exist\")\n",
    "else: print(\"first name not found\")"
   ]
  },
  {
   "cell_type": "code",
   "execution_count": 43,
   "metadata": {},
   "outputs": [
    {
     "name": "stdout",
     "output_type": "stream",
     "text": [
      "first name found\n"
     ]
    }
   ],
   "source": [
    "# if elif else\n",
    "if \"Ankur\" in list1:\n",
    "    print(\"first name found\")\n",
    "elif \"Lodha\" in list1:\n",
    "    print(\"last name found\")\n",
    "else: print(\"first or last name not found\")"
   ]
  },
  {
   "cell_type": "code",
   "execution_count": 44,
   "metadata": {},
   "outputs": [
    {
     "name": "stdout",
     "output_type": "stream",
     "text": [
      "last name found\n"
     ]
    }
   ],
   "source": [
    "if \"abc\" in list1:\n",
    "    print(\"first name found\")\n",
    "elif \"Lodha\" in list1:\n",
    "    print(\"last name found\")\n",
    "else: print(\"first or last name not found\")"
   ]
  },
  {
   "cell_type": "code",
   "execution_count": 45,
   "metadata": {},
   "outputs": [
    {
     "name": "stdout",
     "output_type": "stream",
     "text": [
      "first or last name not found\n"
     ]
    }
   ],
   "source": [
    "if \"abc\" in list1:\n",
    "    print(\"first name found\")\n",
    "elif \"xyz\" in list1:\n",
    "    print(\"last name found\")\n",
    "else: print(\"first or last name not found\")"
   ]
  },
  {
   "cell_type": "code",
   "execution_count": 48,
   "metadata": {},
   "outputs": [
    {
     "ename": "SyntaxError",
     "evalue": "invalid syntax (<ipython-input-48-e81991149c44>, line 3)",
     "output_type": "error",
     "traceback": [
      "\u001b[1;36m  File \u001b[1;32m\"<ipython-input-48-e81991149c44>\"\u001b[1;36m, line \u001b[1;32m3\u001b[0m\n\u001b[1;33m    if temp = ankur\u001b[0m\n\u001b[1;37m            ^\u001b[0m\n\u001b[1;31mSyntaxError\u001b[0m\u001b[1;31m:\u001b[0m invalid syntax\n"
     ]
    }
   ],
   "source": [
    "for temp in list1:\n",
    "    print(temp)\n",
    "    if temp = \"ankur\"\n",
    "    print(\"firstname found\")\n",
    "    elif temp ==\"lodha\"\n",
    "    print(\"last name found\")\n",
    "    else: print(\"No name found\")"
   ]
  },
  {
   "cell_type": "code",
   "execution_count": 53,
   "metadata": {},
   "outputs": [
    {
     "ename": "SyntaxError",
     "evalue": "invalid syntax (<ipython-input-53-54b9e1e06418>, line 1)",
     "output_type": "error",
     "traceback": [
      "\u001b[1;36m  File \u001b[1;32m\"<ipython-input-53-54b9e1e06418>\"\u001b[1;36m, line \u001b[1;32m1\u001b[0m\n\u001b[1;33m    resume = open(C:/users/ankurDesktop/Resume/LodhaAnkurResume.docx,'r')\u001b[0m\n\u001b[1;37m                   ^\u001b[0m\n\u001b[1;31mSyntaxError\u001b[0m\u001b[1;31m:\u001b[0m invalid syntax\n"
     ]
    }
   ],
   "source": [
    "resume = open(C:/users/ankurDesktop/Resume/LodhaAnkurResume.docx,'r')"
   ]
  },
  {
   "cell_type": "code",
   "execution_count": 54,
   "metadata": {},
   "outputs": [],
   "source": [
    "# array vs list- Array will only accept data elements of same data types.\n",
    "# import array\n",
    "import array as arr"
   ]
  },
  {
   "cell_type": "code",
   "execution_count": 56,
   "metadata": {},
   "outputs": [],
   "source": [
    "a =arr.array('i',[1,2,3])"
   ]
  },
  {
   "cell_type": "code",
   "execution_count": 57,
   "metadata": {},
   "outputs": [
    {
     "name": "stdout",
     "output_type": "stream",
     "text": [
      "array('i', [1, 2, 3])\n"
     ]
    }
   ],
   "source": [
    "print(a)"
   ]
  },
  {
   "cell_type": "code",
   "execution_count": 64,
   "metadata": {},
   "outputs": [
    {
     "name": "stdout",
     "output_type": "stream",
     "text": [
      "[1, 'ab', 2.2]\n"
     ]
    },
    {
     "ename": "TypeError",
     "evalue": "string indices must be integers",
     "output_type": "error",
     "traceback": [
      "\u001b[1;31m---------------------------------------------------------------------------\u001b[0m",
      "\u001b[1;31mTypeError\u001b[0m                                 Traceback (most recent call last)",
      "\u001b[1;32m<ipython-input-64-1e2c7bb32db8>\u001b[0m in \u001b[0;36m<module>\u001b[1;34m\u001b[0m\n\u001b[0;32m      2\u001b[0m \u001b[0ml\u001b[0m\u001b[1;33m=\u001b[0m \u001b[1;33m[\u001b[0m\u001b[1;36m1\u001b[0m\u001b[1;33m,\u001b[0m\u001b[1;34m'ab'\u001b[0m\u001b[1;33m,\u001b[0m\u001b[1;36m2.2\u001b[0m\u001b[1;33m]\u001b[0m \u001b[1;31m# list can have data elements from different data type\u001b[0m\u001b[1;33m\u001b[0m\u001b[1;33m\u001b[0m\u001b[0m\n\u001b[0;32m      3\u001b[0m \u001b[0mprint\u001b[0m\u001b[1;33m(\u001b[0m\u001b[0ml\u001b[0m\u001b[1;33m)\u001b[0m\u001b[1;33m\u001b[0m\u001b[1;33m\u001b[0m\u001b[0m\n\u001b[1;32m----> 4\u001b[1;33m \u001b[0mb\u001b[0m\u001b[1;33m=\u001b[0m\u001b[0marr\u001b[0m\u001b[1;33m.\u001b[0m\u001b[0marray\u001b[0m\u001b[1;33m(\u001b[0m\u001b[1;34m'i'\u001b[0m\u001b[1;33m[\u001b[0m\u001b[1;36m1\u001b[0m\u001b[1;33m,\u001b[0m\u001b[1;34m'ab'\u001b[0m\u001b[1;33m,\u001b[0m\u001b[1;36m2.2\u001b[0m\u001b[1;33m]\u001b[0m\u001b[1;33m)\u001b[0m \u001b[1;31m# observe list returns value whereas array throws an error.\u001b[0m\u001b[1;33m\u001b[0m\u001b[1;33m\u001b[0m\u001b[0m\n\u001b[0m",
      "\u001b[1;31mTypeError\u001b[0m: string indices must be integers"
     ]
    }
   ],
   "source": [
    "# python will through an error if you have a data elements from other data type in array\n",
    "l= [1,'ab',2.2] # list can have data elements from different data type\n",
    "print(l) \n",
    "b=arr.array('i'[1,'ab',2.2]) # observe list returns values whereas array throws an error."
   ]
  },
  {
   "cell_type": "code",
   "execution_count": 69,
   "metadata": {},
   "outputs": [
    {
     "name": "stdout",
     "output_type": "stream",
     "text": [
      "<class 'int'>\n",
      "<class 'float'>\n",
      "<class 'int'>\n",
      "10\n"
     ]
    }
   ],
   "source": [
    "# data conversion or data casting. Data conversion can lead to data loss\n",
    "x=10\n",
    "print(type(x))\n",
    "y=10.10\n",
    "print(type(y))\n",
    "x= int(y)\n",
    "print (type(x))\n",
    "print(x) # the value after decimal .10 is lost due to the casting float to an int. This is an important consideration "
   ]
  },
  {
   "cell_type": "code",
   "execution_count": 85,
   "metadata": {},
   "outputs": [
    {
     "ename": "NameError",
     "evalue": "name 'simpleregressiondata' is not defined",
     "output_type": "error",
     "traceback": [
      "\u001b[1;31m---------------------------------------------------------------------------\u001b[0m",
      "\u001b[1;31mNameError\u001b[0m                                 Traceback (most recent call last)",
      "\u001b[1;32m<ipython-input-85-a0ff2a890179>\u001b[0m in \u001b[0;36m<module>\u001b[1;34m\u001b[0m\n\u001b[0;32m      4\u001b[0m \u001b[1;31m# Read every file in directory\u001b[0m\u001b[1;33m\u001b[0m\u001b[1;33m\u001b[0m\u001b[1;33m\u001b[0m\u001b[0m\n\u001b[0;32m      5\u001b[0m \u001b[1;32mfor\u001b[0m \u001b[0mfilename\u001b[0m \u001b[1;32min\u001b[0m \u001b[0mos\u001b[0m\u001b[1;33m.\u001b[0m\u001b[0mlistdir\u001b[0m\u001b[1;33m(\u001b[0m\u001b[0mpath\u001b[0m\u001b[1;33m)\u001b[0m\u001b[1;33m:\u001b[0m\u001b[1;33m\u001b[0m\u001b[1;33m\u001b[0m\u001b[0m\n\u001b[1;32m----> 6\u001b[1;33m     \u001b[1;32mwith\u001b[0m \u001b[0mopen\u001b[0m\u001b[1;33m(\u001b[0m\u001b[0msimpleregressiondata\u001b[0m\u001b[1;33m.\u001b[0m\u001b[0mtxt\u001b[0m\u001b[1;33m,\u001b[0m \u001b[1;34m\"r\"\u001b[0m\u001b[1;33m)\u001b[0m \u001b[1;32mas\u001b[0m \u001b[0mf\u001b[0m\u001b[1;33m:\u001b[0m \u001b[1;31m# \"r\" is for read only, we want to read only. to write it is \"W\"\u001b[0m\u001b[1;33m\u001b[0m\u001b[1;33m\u001b[0m\u001b[0m\n\u001b[0m\u001b[0;32m      7\u001b[0m         \u001b[0mweight\u001b[0m \u001b[1;33m=\u001b[0m\u001b[1;33m[\u001b[0m\u001b[1;33m]\u001b[0m\u001b[1;33m\u001b[0m\u001b[1;33m\u001b[0m\u001b[0m\n\u001b[0;32m      8\u001b[0m         \u001b[0mpeople\u001b[0m \u001b[1;33m=\u001b[0m\u001b[1;33m[\u001b[0m\u001b[1;33m]\u001b[0m\u001b[1;33m\u001b[0m\u001b[1;33m\u001b[0m\u001b[0m\n",
      "\u001b[1;31mNameError\u001b[0m: name 'simpleregressiondata' is not defined"
     ]
    }
   ],
   "source": [
    "# regression analysis - is used to find the relationship/dependency between the numeric variables in the dataset.\n",
    "import os\n",
    "path = \"C:/Users/ankur/Desktop/Python\"\n",
    "# Read every file in directory\n",
    "for filename in os.listdir(path):\n",
    "    with open(simpleregressiondata.txt, \"r\") as f: # \"r\" is for read only, we want to read only. to write it is \"W\"\n",
    "        weight =[]\n",
    "        people =[]\n",
    "        for data in f:\n",
    "    #we will fill the list\n",
    "    # data.split will split the comma seperated values and store in _weight and _people. 2(w),10(p)\n",
    "    #_weight and _people are local variable as they are created with a function, \n",
    "            _weight,_people = data.split(\",\")\n",
    "    \n",
    "    "
   ]
  },
  {
   "cell_type": "code",
   "execution_count": 87,
   "metadata": {},
   "outputs": [
    {
     "data": {
      "text/plain": [
       "5"
      ]
     },
     "execution_count": 87,
     "metadata": {},
     "output_type": "execute_result"
    }
   ],
   "source": [
    "x='hello'\n",
    "len(x)"
   ]
  },
  {
   "cell_type": "code",
   "execution_count": null,
   "metadata": {},
   "outputs": [],
   "source": []
  }
 ],
 "metadata": {
  "kernelspec": {
   "display_name": "Python 3",
   "language": "python",
   "name": "python3"
  },
  "language_info": {
   "codemirror_mode": {
    "name": "ipython",
    "version": 3
   },
   "file_extension": ".py",
   "mimetype": "text/x-python",
   "name": "python",
   "nbconvert_exporter": "python",
   "pygments_lexer": "ipython3",
   "version": "3.7.4"
  }
 },
 "nbformat": 4,
 "nbformat_minor": 2
}
