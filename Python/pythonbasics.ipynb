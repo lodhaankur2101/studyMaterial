{
 "cells": [
  {
   "cell_type": "code",
   "execution_count": 6,
   "metadata": {},
   "outputs": [
    {
     "name": "stdout",
     "output_type": "stream",
     "text": [
      "hello world\n"
     ]
    }
   ],
   "source": [
    "# hello world # python is case sensitive.\n",
    "print(\"hello world\") "
   ]
  },
  {
   "cell_type": "code",
   "execution_count": 7,
   "metadata": {},
   "outputs": [],
   "source": [
    "# variable - Python looks at the data on right(=) and infers the data type.\n",
    "x=10 \n",
    "y=10.01\n",
    "z= 'ABCD'\n",
    "a= \"QWERTY\"\n"
   ]
  },
  {
   "cell_type": "code",
   "execution_count": 8,
   "metadata": {},
   "outputs": [
    {
     "name": "stdout",
     "output_type": "stream",
     "text": [
      "<class 'int'>\n",
      "<class 'float'>\n",
      "<class 'str'>\n",
      "<class 'str'>\n"
     ]
    }
   ],
   "source": [
    " # type to find the data type of the variable.\n",
    "print(type(x))\n",
    "print(type(y))\n",
    "print(type(z))\n",
    "print(type(a))"
   ]
  },
  {
   "cell_type": "code",
   "execution_count": 9,
   "metadata": {},
   "outputs": [
    {
     "name": "stdout",
     "output_type": "stream",
     "text": [
      "<class 'int'>\n",
      "<class 'str'>\n"
     ]
    }
   ],
   "source": [
    "# Python is a dynamic language.\n",
    "x =10\n",
    "print(type(x))\n",
    "x='Ankur'\n",
    "print(type(x))"
   ]
  },
  {
   "cell_type": "code",
   "execution_count": 12,
   "metadata": {},
   "outputs": [
    {
     "name": "stdout",
     "output_type": "stream",
     "text": [
      "This line is not part of the function\n",
      "This line is part of the function\n",
      "This line is also part of the function\n"
     ]
    }
   ],
   "source": [
    "# function,whitespaces and indentation.\n",
    "def FunctionName():\n",
    "    print(\"This line is part of the function\")  # observe the indentation, it starts with a whitespace.\n",
    "    print(\"This line is also part of the function\")\n",
    "    \n",
    "print(\"This line is not part of the function\") # observe the indentation, it starts inline with the definition of the function.\n",
    "FunctionName() # invokes the method\n"
   ]
  },
  {
   "cell_type": "code",
   "execution_count": 16,
   "metadata": {},
   "outputs": [
    {
     "name": "stdout",
     "output_type": "stream",
     "text": [
      "This is the value of the Parameter passed to the function: My name is Ankur Lodha\n",
      "This is the value of the Parameter passed to the function: My name is Ankur Lodha\n",
      "This is the value of the Parameter passed to the function: 10.10\n"
     ]
    },
    {
     "ename": "TypeError",
     "evalue": "can only concatenate str (not \"int\") to str",
     "output_type": "error",
     "traceback": [
      "\u001b[1;31m---------------------------------------------------------------------------\u001b[0m",
      "\u001b[1;31mTypeError\u001b[0m                                 Traceback (most recent call last)",
      "\u001b[1;32m<ipython-input-16-2531033d0948>\u001b[0m in \u001b[0;36m<module>\u001b[1;34m\u001b[0m\n\u001b[0;32m      5\u001b[0m \u001b[0mfunctionname1\u001b[0m\u001b[1;33m(\u001b[0m\u001b[1;34m'My name is Ankur Lodha'\u001b[0m\u001b[1;33m)\u001b[0m\u001b[1;33m\u001b[0m\u001b[1;33m\u001b[0m\u001b[0m\n\u001b[0;32m      6\u001b[0m \u001b[0mfunctionname1\u001b[0m\u001b[1;33m(\u001b[0m\u001b[1;34m\"10.10\"\u001b[0m\u001b[1;33m)\u001b[0m\u001b[1;33m\u001b[0m\u001b[1;33m\u001b[0m\u001b[0m\n\u001b[1;32m----> 7\u001b[1;33m \u001b[0mfunctionname1\u001b[0m\u001b[1;33m(\u001b[0m\u001b[1;36m10\u001b[0m\u001b[1;33m)\u001b[0m \u001b[1;31m# this will throw an error as string can be concatenated to a string.\u001b[0m\u001b[1;33m\u001b[0m\u001b[1;33m\u001b[0m\u001b[0m\n\u001b[0m",
      "\u001b[1;32m<ipython-input-16-2531033d0948>\u001b[0m in \u001b[0;36mfunctionname1\u001b[1;34m(param)\u001b[0m\n\u001b[0;32m      1\u001b[0m \u001b[1;31m# function with parameters\u001b[0m\u001b[1;33m\u001b[0m\u001b[1;33m\u001b[0m\u001b[1;33m\u001b[0m\u001b[0m\n\u001b[0;32m      2\u001b[0m \u001b[1;32mdef\u001b[0m \u001b[0mfunctionname1\u001b[0m\u001b[1;33m(\u001b[0m\u001b[0mparam\u001b[0m\u001b[1;33m)\u001b[0m\u001b[1;33m:\u001b[0m\u001b[1;33m\u001b[0m\u001b[1;33m\u001b[0m\u001b[0m\n\u001b[1;32m----> 3\u001b[1;33m     \u001b[0mprint\u001b[0m\u001b[1;33m(\u001b[0m\u001b[1;34m\"This is the value of the Parameter passed to the function: \"\u001b[0m\u001b[1;33m+\u001b[0m \u001b[0mparam\u001b[0m\u001b[1;33m)\u001b[0m\u001b[1;33m\u001b[0m\u001b[1;33m\u001b[0m\u001b[0m\n\u001b[0m\u001b[0;32m      4\u001b[0m \u001b[0mfunctionname1\u001b[0m\u001b[1;33m(\u001b[0m\u001b[1;34m\"My name is Ankur Lodha\"\u001b[0m\u001b[1;33m)\u001b[0m\u001b[1;33m\u001b[0m\u001b[1;33m\u001b[0m\u001b[0m\n\u001b[0;32m      5\u001b[0m \u001b[0mfunctionname1\u001b[0m\u001b[1;33m(\u001b[0m\u001b[1;34m'My name is Ankur Lodha'\u001b[0m\u001b[1;33m)\u001b[0m\u001b[1;33m\u001b[0m\u001b[1;33m\u001b[0m\u001b[0m\n",
      "\u001b[1;31mTypeError\u001b[0m: can only concatenate str (not \"int\") to str"
     ]
    }
   ],
   "source": [
    "# function with parameters\n",
    "def functionname1(param):\n",
    "    print(\"This is the value of the Parameter passed to the function: \"+ param)\n",
    "functionname1(\"My name is Ankur Lodha\") # no need to put semi colon to start new line or code. \n",
    "functionname1('My name is Ankur Lodha')#just press enter to code on new line.\n",
    "functionname1(\"10.10\")\n",
    "functionname1(10) # this will throw an error as string can be concatenated to a string.Read the error."
   ]
  },
  {
   "cell_type": "code",
   "execution_count": 31,
   "metadata": {},
   "outputs": [
    {
     "name": "stdout",
     "output_type": "stream",
     "text": [
      "<class 'list'>\n",
      "Ankur\n",
      "Lodha\n",
      "2101\n",
      "Lodha\n",
      "['Ankur', 'Lodha']\n",
      "['Lodha', '2101']\n"
     ]
    }
   ],
   "source": [
    "# Collection- most used collection used is list.\n",
    "#python list,Index range and negative indexing.\n",
    "\n",
    "list1 = [\"Ankur\",\"Lodha\",\"2101\"]\n",
    "print(type(list1))\n",
    "print(list1[0]) # list is zero indexed.\n",
    "print(list1[1])\n",
    "print(list1[-1]) # negative index to start from the last value.\n",
    "print(list1[-2])\n",
    "print(list1[0:2]) # include first value of the index range passed but exlcudes last value of the range passed.\n",
    "# observe printed values, Remeber zero indexed! 0{ankur},1{lodha} included but 2{2101} excluded.\n",
    "print(list1[-2:]) # exclude the last value when negative indexing, in this case -2. "
   ]
  },
  {
   "cell_type": "code",
   "execution_count": 35,
   "metadata": {},
   "outputs": [
    {
     "name": "stdout",
     "output_type": "stream",
     "text": [
      "Ankur\n",
      "Lodha\n",
      "2101\n"
     ]
    }
   ],
   "source": [
    "# for loops.\n",
    "# for loop : for each variable in list1 : print each variable in list1\n",
    "for temp in list1 : \n",
    "    print(temp)\n"
   ]
  },
  {
   "cell_type": "code",
   "execution_count": 40,
   "metadata": {},
   "outputs": [
    {
     "name": "stdout",
     "output_type": "stream",
     "text": [
      "exist\n"
     ]
    }
   ],
   "source": [
    "#if conditions.\n",
    "if \"Ankur\" in list1 :\n",
    "    print(\"exist\")"
   ]
  },
  {
   "cell_type": "code",
   "execution_count": null,
   "metadata": {},
   "outputs": [],
   "source": []
  }
 ],
 "metadata": {
  "kernelspec": {
   "display_name": "Python 3",
   "language": "python",
   "name": "python3"
  },
  "language_info": {
   "codemirror_mode": {
    "name": "ipython",
    "version": 3
   },
   "file_extension": ".py",
   "mimetype": "text/x-python",
   "name": "python",
   "nbconvert_exporter": "python",
   "pygments_lexer": "ipython3",
   "version": "3.7.4"
  }
 },
 "nbformat": 4,
 "nbformat_minor": 2
}
